{
 "cells":[
  {
   "cell_type":"code",
   "source":[
    "import random"
   ],
   "execution_count":26,
   "outputs":[
    
   ],
   "metadata":{
    "datalore":{
     "node_id":"fj4eaafIj7duQaTnyD3J8O",
     "type":"CODE",
     "hide_input_from_viewers":false,
     "hide_output_from_viewers":false
    }
   }
  },
  {
   "cell_type":"code",
   "source":[
    "you_wons = 0\n",
    "computer_wons = 0"
   ],
   "execution_count":27,
   "outputs":[
    
   ],
   "metadata":{
    "datalore":{
     "node_id":"nXwYy9mGcW1eEioSds1pGl",
     "type":"CODE",
     "hide_input_from_viewers":false,
     "hide_output_from_viewers":false
    }
   }
  },
  {
   "cell_type":"code",
   "source":[
    "rps = [\"rock\", \"paper\", \"scissors\"]\n",
    "\n",
    "while True :\n",
    "    user_input = input(\"Type Rock\/Paper\/Scissors or Q to Quit: \").lower()\n",
    "    if user_input == \"q\":\n",
    "        break\n",
    "    if user_input not in rps:\n",
    "        continue\n",
    "\n",
    "    random_number = random.randint(0,2)\n",
    "    #rock = 0, paper = 1, scissors = 2\n",
    "\n",
    "    computer_pick = rps[random_number]\n",
    "    print(\"Computer Picked\", \"computer_pick\" + \".\")\n",
    "\n",
    "    if user_input == \"rock\" and computer_pick == \"scissors\":\n",
    "        print(\"You Won !!!\")\n",
    "        you_wons += 1\n",
    "\n",
    "    elif user_input == \"paper\" and computer_pick == \"rock\":\n",
    "        print(\"You Won !!!\")\n",
    "        you_wons += 1\n",
    "\n",
    "    elif user_input == \"scissors\" and computer_pick == \"paper\":\n",
    "        print(\"You Won !!!\")\n",
    "        you_wons += 1\n",
    "\n",
    "    else:\n",
    "        print(\"You Lost :( \")\n",
    "        computer_wons =+ 1\n",
    "\n",
    "print(\"You won\", you_wons, \"times.\")\n",
    "print(\"The Computer won\", computer_wons, \"times.\")\n",
    "print(\"Goodbye :) \")"
   ],
   "execution_count":29,
   "outputs":[
    
   ],
   "metadata":{
    "datalore":{
     "node_id":"8zD2vo65vBiTzixYgAtuQM",
     "type":"CODE",
     "hide_input_from_viewers":false,
     "hide_output_from_viewers":false
    }
   }
  },
  {
   "cell_type":"code",
   "source":[
    
   ],
   "execution_count":null,
   "outputs":[
    
   ],
   "metadata":{
    "datalore":{
     "node_id":"3EXx1UL2LDg2tH4lADvg3O",
     "type":"CODE",
     "hide_input_from_viewers":false,
     "hide_output_from_viewers":false
    }
   }
  },
  {
   "cell_type":"code",
   "source":[
    
   ],
   "execution_count":null,
   "outputs":[
    
   ],
   "metadata":{
    "datalore":{
     "node_id":"ebGHEdZS7VkfK2Xc1fGDIQ",
     "type":"CODE",
     "hide_input_from_viewers":false,
     "hide_output_from_viewers":false
    }
   }
  }
 ],
 "metadata":{
  "kernelspec":{
   "display_name":"Python",
   "language":"python",
   "name":"python"
  },
  "datalore":{
   "version":1,
   "computation_mode":"JUPYTER",
   "package_manager":"pip",
   "base_environment":"default",
   "packages":[
    
   ]
  }
 },
 "nbformat":4,
 "nbformat_minor":4
}