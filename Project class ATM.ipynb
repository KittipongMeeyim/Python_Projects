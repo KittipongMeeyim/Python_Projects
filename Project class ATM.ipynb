{
 "cells":[
  {
   "cell_type":"code",
   "source":[
    "class ATM:\n",
    "    def __init__(self, name, balance): #ืname and balance\n",
    "        self.name = name\n",
    "        self.balance = balance\n",
    "#check balance\n",
    "    def check_balance(self): \n",
    "        messege = f\"Account: {self.name}, Balance: $ {self.balance}\"\n",
    "        print(messege)\n",
    "#deposit\n",
    "    def deposit(self, money): \n",
    "        self.balance += money\n",
    "        print(f\"New Balance: $ {self.balance}\")\n",
    "        print(\"Deposit Succesfully.\")\n",
    "#change name\n",
    "    def change_name(self, new_acc_name): \n",
    "        self.name = new_acc_name\n",
    "        print(f\"New Name: {self.name}\")\n",
    "        print(\"Your account name have been changed\")\n",
    "\n",
    "#update book \n",
    "    def update_book(self):\n",
    "        print(\"Your ฺbankbook have been updated\")\n",
    "#withdraw\n",
    "    def withdraw(self, money):\n",
    "        self.balance -= money\n",
    "        print (f\"New Balanced : $ {self.balance}\")\n",
    "        print(\"Withdraw Succesfully\")\n",
    "#Pay bill \n",
    "    def pay_bill(self):\n",
    "        print(\"Your bill have been paid\")\n",
    "#exchange to baht\n",
    "    def exchange_to_baht(self, money):\n",
    "        self.balance = money*35\n",
    "        print(f\"Your balance : {self.balance} Baht\")\n",
    "        print(\"Exchanging has been successed\")\n",
    "#transfer\n",
    "    def tranfer(self, name, money):\n",
    "        self.name = name\n",
    "        self.balance -= money\n",
    "        print(f\"Transfer to {self.name} have been successed. Your balance {self.balance} Baht.\")"
   ],
   "execution_count":10,
   "outputs":[
    
   ],
   "metadata":{
    "datalore":{
     "node_id":"DXcHXbBfsueQAKZCs3RBq7",
     "type":"CODE",
     "hide_input_from_viewers":false,
     "hide_output_from_viewers":false
    }
   }
  },
  {
   "cell_type":"code",
   "source":[
    "piggy = ATM(\"P\", 2500)"
   ],
   "execution_count":3,
   "outputs":[
    
   ],
   "metadata":{
    "datalore":{
     "node_id":"Q1BEzYJYE1ilqHV5DWUCYx",
     "type":"CODE",
     "hide_input_from_viewers":false,
     "hide_output_from_viewers":false
    }
   }
  },
  {
   "cell_type":"code",
   "source":[
    "piggy.check_balance()"
   ],
   "execution_count":39,
   "outputs":[
    {
     "name":"stdout",
     "text":[
      "Account: P, Balance: $ 2500\n"
     ],
     "output_type":"stream"
    }
   ],
   "metadata":{
    "datalore":{
     "node_id":"HRWpAaa2MicdXcgR9kGVCG",
     "type":"CODE",
     "hide_input_from_viewers":false,
     "hide_output_from_viewers":false
    }
   }
  },
  {
   "cell_type":"code",
   "source":[
    "piggy.deposit(800)"
   ],
   "execution_count":4,
   "outputs":[
    {
     "name":"stdout",
     "text":[
      "New Balance: $ 3300\n",
      "Deposit Succesfully.\n"
     ],
     "output_type":"stream"
    }
   ],
   "metadata":{
    "datalore":{
     "node_id":"sTJQzTIOyHfmtj0R1Ugfsg",
     "type":"CODE",
     "hide_input_from_viewers":false,
     "hide_output_from_viewers":false
    }
   }
  },
  {
   "cell_type":"code",
   "source":[
    "piggy.change_name(\"Kittipong\")"
   ],
   "execution_count":5,
   "outputs":[
    {
     "name":"stdout",
     "text":[
      "New Name: Kittipong\n",
      "Your account name have been changed\n"
     ],
     "output_type":"stream"
    }
   ],
   "metadata":{
    "datalore":{
     "node_id":"bhYjrJhypqvEtNefQ4Ujhp",
     "type":"CODE",
     "hide_input_from_viewers":false,
     "hide_output_from_viewers":false
    }
   }
  },
  {
   "cell_type":"code",
   "source":[
    "piggy.pay_bill()"
   ],
   "execution_count":6,
   "outputs":[
    {
     "name":"stdout",
     "text":[
      "Your bill have been paid\n"
     ],
     "output_type":"stream"
    }
   ],
   "metadata":{
    "datalore":{
     "node_id":"T2weYDGgWvvHcp209vD3ty",
     "type":"CODE",
     "hide_input_from_viewers":false,
     "hide_output_from_viewers":false
    }
   }
  },
  {
   "cell_type":"code",
   "source":[
    "piggy.update_book()"
   ],
   "execution_count":7,
   "outputs":[
    {
     "name":"stdout",
     "text":[
      "Your ฺbankbook have been updated\n"
     ],
     "output_type":"stream"
    }
   ],
   "metadata":{
    "datalore":{
     "node_id":"ATjbpuEoFGmNfqpd9pyl8G",
     "type":"CODE",
     "hide_input_from_viewers":false,
     "hide_output_from_viewers":false
    }
   }
  },
  {
   "cell_type":"code",
   "source":[
    "piggy.exchange_to_baht(500)"
   ],
   "execution_count":8,
   "outputs":[
    {
     "name":"stdout",
     "text":[
      "Your balance : 17500 Baht\n",
      "Exchanging has been successed\n"
     ],
     "output_type":"stream"
    }
   ],
   "metadata":{
    "datalore":{
     "node_id":"bIVoF9YbCHTSZBpiaHWWH7",
     "type":"CODE",
     "hide_input_from_viewers":false,
     "hide_output_from_viewers":false
    }
   }
  },
  {
   "cell_type":"code",
   "source":[
    "piggy.tranfer(\"Kamon\", 700)"
   ],
   "execution_count":11,
   "outputs":[
    {
     "name":"stdout",
     "text":[
      "Transfer to Kamon have been successed. Your balance $16100\n"
     ],
     "output_type":"stream"
    }
   ],
   "metadata":{
    "datalore":{
     "node_id":"f8AB2IStJNEENYwSrkGHoA",
     "type":"CODE",
     "hide_input_from_viewers":false,
     "hide_output_from_viewers":false
    }
   }
  },
  {
   "cell_type":"code",
   "source":[
    
   ],
   "execution_count":null,
   "outputs":[
    
   ],
   "metadata":{
    "datalore":{
     "node_id":"bkEsZfPevHbkeFnnETFiQU",
     "type":"CODE",
     "hide_input_from_viewers":false,
     "hide_output_from_viewers":false
    }
   }
  }
 ],
 "metadata":{
  "kernelspec":{
   "display_name":"Python",
   "language":"python",
   "name":"python"
  },
  "datalore":{
   "version":1,
   "computation_mode":"JUPYTER",
   "package_manager":"pip",
   "base_environment":"default",
   "packages":[
    
   ]
  }
 },
 "nbformat":4,
 "nbformat_minor":4
}